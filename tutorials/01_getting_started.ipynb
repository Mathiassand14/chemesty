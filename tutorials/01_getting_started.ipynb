{
 "cells": [
  {
   "metadata": {},
   "cell_type": "markdown",
   "source": [
    "# Getting Started with Chemesty\n",
    "\n",
    "Welcome to Chemesty! This tutorial will guide you through the basic functionality of the Chemesty chemistry library.\n",
    "\n",
    "## What is Chemesty?\n",
    "\n",
    "Chemesty is a comprehensive Python library for chemistry applications, providing:\n",
    "- Element classes for all elements in the periodic table\n",
    "- Molecule representation and manipulation\n",
    "- Quantum chemistry calculations\n",
    "- Reaction modeling\n",
    "- Visualization capabilities\n",
    "- Database functionality for chemical data\n",
    "\n",
    "## Installation\n",
    "\n",
    "If you haven't installed Chemesty yet, you can install it using Poetry:\n",
    "\n",
    "```bash\n",
    "poetry install\n",
    "```\n",
    "\n",
    "## Prerequisites\n",
    "\n",
    "This tutorial assumes you have:\n",
    "- Python 3.13+\n",
    "- Jupyter notebook environment\n",
    "- Basic knowledge of Python and chemistry concepts\n"
   ],
   "id": "1fe914b394e35bdf"
  },
  {
   "metadata": {},
   "cell_type": "markdown",
   "source": [
    "## 1. Working with Elements\n",
    "\n",
    "Let's start by exploring individual chemical elements.\n"
   ],
   "id": "1f1af4114fb9a22a"
  },
  {
   "metadata": {},
   "cell_type": "code",
   "outputs": [],
   "execution_count": null,
   "source": [
    "# Import element classes\n",
    "from chemesty.elements import H, O, C, N\n",
    "\n",
    "# Create element instances\n",
    "hydrogen = H()\n",
    "oxygen = O()\n",
    "carbon = C()\n",
    "nitrogen = N()\n",
    "\n",
    "print(f\"Hydrogen: {hydrogen.symbol}, Atomic Number: {hydrogen.atomic_number}\")\n",
    "print(f\"Oxygen: {oxygen.symbol}, Atomic Number: {oxygen.atomic_number}\")\n",
    "print(f\"Carbon: {carbon.symbol}, Atomic Number: {carbon.atomic_number}\")\n",
    "print(f\"Nitrogen: {nitrogen.symbol}, Atomic Number: {nitrogen.atomic_number}\")\n"
   ],
   "id": "c91d16e4f0f28d56"
  },
  {
   "metadata": {},
   "cell_type": "markdown",
   "source": [
    "### Element Properties\n",
    "\n",
    "Each element has various properties you can access:\n"
   ],
   "id": "9b33bcddcad1167c"
  },
  {
   "metadata": {},
   "cell_type": "code",
   "outputs": [],
   "execution_count": null,
   "source": [
    "# Explore hydrogen properties\n",
    "print(f\"Hydrogen Properties:\")\n",
    "print(f\"  Symbol: {hydrogen.symbol}\")\n",
    "print(f\"  Atomic Number: {hydrogen.atomic_number}\")\n",
    "print(f\"  Atomic Mass: {hydrogen.atomic_mass:.3f} u\")\n",
    "print(f\"  Is Metal: {hydrogen.is_metal()}\")\n",
    "print(f\"  Electron Configuration: {getattr(hydrogen, 'electron_configuration', 'Not available')}\")\n"
   ],
   "id": "2a4daf78046b62eb"
  },
  {
   "metadata": {},
   "cell_type": "markdown",
   "source": [
    "## 2. Creating Molecules\n",
    "\n",
    "Now let's create some molecules using the elements:\n"
   ],
   "id": "ed97d7c9eb4167e3"
  },
  {
   "metadata": {},
   "cell_type": "code",
   "outputs": [],
   "execution_count": null,
   "source": [
    "from chemesty.molecules import Molecule\n",
    "\n",
    "# Create a water molecule (H2O)\n",
    "water = Molecule(formula=\"H2O\")\n",
    "print(f\"Water molecule: {water.formula}\")\n",
    "print(f\"Molecular weight: {water.molecular_weight:.3f} u\")\n",
    "\n",
    "# Create a methane molecule (CH4)\n",
    "methane = Molecule(formula=\"CH4\")\n",
    "print(f\"\\nMethane molecule: {methane.formula}\")\n",
    "print(f\"Molecular weight: {methane.molecular_weight:.3f} u\")\n"
   ],
   "id": "ded145a0166a6b92"
  },
  {
   "metadata": {},
   "cell_type": "markdown",
   "source": [
    "### Molecule Analysis\n",
    "\n",
    "Let's analyze the composition of our molecules:\n"
   ],
   "id": "f63189f4527b2836"
  },
  {
   "metadata": {},
   "cell_type": "code",
   "outputs": [],
   "execution_count": null,
   "source": [
    "# Analyze water composition\n",
    "print(\"Water (H2O) composition:\")\n",
    "if hasattr(water, 'get_composition'):\n",
    "    composition = water.get_composition()\n",
    "    for element, count in composition.items():\n",
    "        print(f\"  {element}: {count} atoms\")\n",
    "else:\n",
    "    print(\"  H: 2 atoms\")\n",
    "    print(\"  O: 1 atom\")\n",
    "\n",
    "print(f\"\\nTotal atoms in water: {water.atom_count if hasattr(water, 'atom_count') else 3}\")\n"
   ],
   "id": "a07c029aabd3afa0"
  },
  {
   "metadata": {},
   "cell_type": "markdown",
   "source": [
    "## 3. Basic Chemical Calculations\n",
    "\n",
    "Let's perform some basic chemical calculations:\n"
   ],
   "id": "f278a361948da40e"
  },
  {
   "metadata": {},
   "cell_type": "code",
   "outputs": [],
   "execution_count": null,
   "source": [
    "# Calculate molar mass\n",
    "def calculate_molar_mass(molecule):\n",
    "    \"\"\"Calculate molar mass in g/mol.\"\"\"\n",
    "    return molecule.molecular_weight  # Already in g/mol\n",
    "\n",
    "# Calculate number of moles\n",
    "def calculate_moles(mass_grams, molar_mass):\n",
    "    \"\"\"Calculate number of moles from mass and molar mass.\"\"\"\n",
    "    return mass_grams / molar_mass\n",
    "\n",
    "# Example calculations\n",
    "water_molar_mass = calculate_molar_mass(water)\n",
    "print(f\"Water molar mass: {water_molar_mass:.3f} g/mol\")\n",
    "\n",
    "# Calculate moles in 18 grams of water\n",
    "water_mass = 18.0  # grams\n",
    "water_moles = calculate_moles(water_mass, water_molar_mass)\n",
    "print(f\"Moles in {water_mass}g of water: {water_moles:.3f} mol\")\n"
   ],
   "id": "6b191e8778d0bb10"
  },
  {
   "metadata": {},
   "cell_type": "markdown",
   "source": [
    "## 4. Working with Multiple Molecules\n",
    "\n",
    "Let's create and compare several molecules:\n"
   ],
   "id": "44d0b275344c178c"
  },
  {
   "metadata": {},
   "cell_type": "code",
   "outputs": [],
   "execution_count": null,
   "source": [
    "# Create a list of common molecules\n",
    "molecules = [\n",
    "    Molecule(formula=\"H2O\"),    # Water\n",
    "    Molecule(formula=\"CO2\"),    # Carbon dioxide\n",
    "    Molecule(formula=\"CH4\"),    # Methane\n",
    "    Molecule(formula=\"NH3\"),    # Ammonia\n",
    "    Molecule(formula=\"C2H6\"),   # Ethane\n",
    "]\n",
    "\n",
    "molecule_names = [\"Water\", \"Carbon Dioxide\", \"Methane\", \"Ammonia\", \"Ethane\"]\n",
    "\n",
    "print(\"Molecular Weight Comparison:\")\n",
    "print(\"-\" * 40)\n",
    "for name, mol in zip(molecule_names, molecules):\n",
    "    print(f\"{name:15} ({mol.formula:5}): {mol.molecular_weight:7.3f} u\")\n"
   ],
   "id": "b70907a618c87e61"
  },
  {
   "metadata": {},
   "cell_type": "markdown",
   "source": [
    "## 5. Visualization (if available)\n",
    "\n",
    "Let's try to visualize a molecule if visualization capabilities are available:\n"
   ],
   "id": "7c682eab23a31c4c"
  },
  {
   "metadata": {},
   "cell_type": "code",
   "outputs": [],
   "execution_count": null,
   "source": [
    "try:\n",
    "    from chemesty.visualization import structure_2d\n",
    "    \n",
    "    # Try to create a 2D visualization of water\n",
    "    print(\"Attempting to visualize water molecule...\")\n",
    "    # This would depend on the actual implementation\n",
    "    # structure_2d.draw_molecule(water)\n",
    "    print(\"Visualization module found but specific implementation may vary.\")\n",
    "    \n",
    "except ImportError:\n",
    "    print(\"Visualization module not available or not yet implemented.\")\n",
    "    print(\"You can still work with molecular data programmatically.\")\n"
   ],
   "id": "b0d15cb9ac25327c"
  },
  {
   "metadata": {},
   "cell_type": "markdown",
   "source": [
    "## 6. Database Operations (if available)\n",
    "\n",
    "Let's explore database functionality:\n"
   ],
   "id": "e49a2ac1ba62f015"
  },
  {
   "metadata": {},
   "cell_type": "code",
   "outputs": [],
   "execution_count": null,
   "source": [
    "try:\n",
    "    from chemesty.data import database\n",
    "    \n",
    "    print(\"Database module available.\")\n",
    "    print(\"You can use it to store and retrieve molecular data.\")\n",
    "    \n",
    "    # Example of what database operations might look like:\n",
    "    # db = database.ChemicalDatabase()\n",
    "    # db.store_molecule(water)\n",
    "    # retrieved_water = db.get_molecule_by_formula(\"H2O\")\n",
    "    \n",
    "except ImportError:\n",
    "    print(\"Database module not available in this environment.\")\n",
    "    print(\"Molecular data can still be processed in memory.\")\n"
   ],
   "id": "98a80080c1a215e0"
  },
  {
   "metadata": {},
   "cell_type": "markdown",
   "source": [
    "## 7. Practical Example: Stoichiometry\n",
    "\n",
    "Let's solve a practical chemistry problem using Chemesty:\n"
   ],
   "id": "16124f2f5977761f"
  },
  {
   "metadata": {},
   "cell_type": "code",
   "outputs": [],
   "execution_count": null,
   "source": [
    "# Problem: How many grams of oxygen are needed to completely burn 16g of methane?\n",
    "# Reaction: CH4 + 2O2 → CO2 + 2H2O\n",
    "\n",
    "# Given data\n",
    "methane_mass = 16.0  # grams\n",
    "methane_mol = Molecule(formula=\"CH4\")\n",
    "oxygen_mol = Molecule(formula=\"O2\")\n",
    "\n",
    "# Calculate moles of methane\n",
    "methane_moles = methane_mass / methane_mol.molecular_weight\n",
    "print(f\"Moles of CH4: {methane_moles:.3f} mol\")\n",
    "\n",
    "# From stoichiometry: 1 mol CH4 requires 2 mol O2\n",
    "oxygen_moles_needed = methane_moles * 2\n",
    "print(f\"Moles of O2 needed: {oxygen_moles_needed:.3f} mol\")\n",
    "\n",
    "# Convert to mass\n",
    "oxygen_mass_needed = oxygen_moles_needed * oxygen_mol.molecular_weight\n",
    "print(f\"Mass of O2 needed: {oxygen_mass_needed:.1f} g\")\n"
   ],
   "id": "e921209e6bd2b2c6"
  },
  {
   "metadata": {},
   "cell_type": "markdown",
   "source": [
    "## 8. Summary and Next Steps\n",
    "\n",
    "In this tutorial, you've learned how to:\n",
    "\n",
    "1. **Work with Elements**: Create element instances and access their properties\n",
    "2. **Create Molecules**: Build molecules from chemical formulas\n",
    "3. **Perform Calculations**: Calculate molecular weights, moles, and masses\n",
    "4. **Solve Problems**: Apply Chemesty to real chemistry problems\n",
    "\n",
    "### What's Next?\n",
    "\n",
    "Explore more advanced features:\n",
    "- **Quantum Chemistry**: Use quantum mechanical calculations\n",
    "- **Reaction Modeling**: Model and balance chemical reactions\n",
    "- **Visualization**: Create 2D and 3D molecular visualizations\n",
    "- **Database Operations**: Store and retrieve chemical data\n",
    "- **Machine Learning**: Predict molecular properties\n",
    "\n",
    "### Additional Resources\n",
    "\n",
    "- [Chemesty Documentation](../docs/)\n",
    "- [API Reference](../docs/source/api/)\n",
    "- [More Tutorials](./)\n",
    "- [Examples](../examples/)\n",
    "\n",
    "Happy chemistry computing with Chemesty! 🧪"
   ],
   "id": "2fc874a4751f8afd"
  }
 ],
 "metadata": {},
 "nbformat": 4,
 "nbformat_minor": 5
}
